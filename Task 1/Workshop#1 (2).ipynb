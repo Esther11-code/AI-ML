{
  "cells": [
    {
      "cell_type": "markdown",
      "metadata": {
        "id": "jddbg2g-s2rE"
      },
      "source": [
        "# Task 1"
      ]
    },
    {
      "cell_type": "markdown",
      "source": [
        "(a) Plot y against x in a two-dimensional graph.\n",
        "\n",
        "(b) Run a simple regression model and find the coeffiicent m and b according to the lecture file.\n",
        "\n",
        "(c) Precidct y values using the regression model you built in (b).\n",
        "\n",
        "(d) Plot two graphs on the same plane. The first graph should display the predicted y-values against the x-values. The second graph should display the original y-values against the x-values.  \n",
        "\n",
        "(e) Are the predicted values accurate? How can we measure the accuracy of the model?\n",
        "\n",
        "NOTE: You need to research and find relevant Python modules to complete the task\n",
        "\n",
        "Hint: You can use linregress from the scipy package for this task"
      ],
      "metadata": {
        "id": "nHkS7C8r49Gq"
      }
    },
    {
      "cell_type": "code",
      "execution_count": 4,
      "metadata": {
        "id": "9g-CYT6KaE6X",
        "colab": {
          "base_uri": "https://localhost:8080/"
        },
        "outputId": "4438d37a-a5e6-4fe8-892d-a4b6aaccce81"
      },
      "outputs": [
        {
          "output_type": "stream",
          "name": "stdout",
          "text": [
            "Intercept: 1.75, Slope: 0.6200000000000006\n"
          ]
        }
      ],
      "source": [
        "# Example data\n",
        "x = [1, 2, 3, 4]  # Predictor\n",
        "y = [2.2, 2.8, 4.5, 3.7]  # Response"
      ]
    },
    {
      "cell_type": "markdown",
      "source": [
        "# Task 2"
      ],
      "metadata": {
        "id": "Kih1hOXD7PK7"
      }
    },
    {
      "cell_type": "markdown",
      "source": [
        "Repeat task 1 for the following set of points X and y.  \n",
        "\n",
        "NOTE 1: This is an example of multiple linear regression when the input (predictor) has more than one dimension.\n",
        "\n",
        "NOTE 2: You need to plot the graphs in a 3 dimensional space\n",
        "\n",
        "Hint: You can use LinearRegression class from the sklearn package for this task"
      ],
      "metadata": {
        "id": "aGbRdXo37S0X"
      }
    },
    {
      "cell_type": "code",
      "source": [
        "import numpy as np\n",
        "import matplotlib.pyplot as plt\n",
        "from sklearn.linear_model import LinearRegression\n",
        "\n",
        "# Generate example data for multiple regression\n",
        "np.random.seed(42)\n",
        "X1 = np.random.rand(100) * 10  # Predictor 1\n",
        "X2 = np.random.rand(100) * 20  # Predictor 2\n",
        "\n",
        "\n",
        "# Combine predictors into a single matrix\n",
        "X = np.column_stack((X1, X2))\n",
        "\n",
        "# Response variable with noise\n",
        "y = 4 + 3 * X1 + 2 * X2 + np.random.randn(100) * 5\n"
      ],
      "metadata": {
        "id": "Dq0U9XTq8kGS"
      },
      "execution_count": null,
      "outputs": []
    }
  ],
  "metadata": {
    "colab": {
      "provenance": []
    },
    "kernelspec": {
      "display_name": "Python 3 (ipykernel)",
      "language": "python",
      "name": "python3"
    },
    "language_info": {
      "codemirror_mode": {
        "name": "ipython",
        "version": 3
      },
      "file_extension": ".py",
      "mimetype": "text/x-python",
      "name": "python",
      "nbconvert_exporter": "python",
      "pygments_lexer": "ipython3",
      "version": "3.11.5"
    }
  },
  "nbformat": 4,
  "nbformat_minor": 0
}