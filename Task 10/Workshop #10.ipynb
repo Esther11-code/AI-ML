{
  "cells": [
    {
      "cell_type": "markdown",
      "id": "57dda1cf-634c-4db2-ba37-44e8b2769e2b",
      "metadata": {
        "id": "57dda1cf-634c-4db2-ba37-44e8b2769e2b"
      },
      "source": [
        "# Tasks"
      ]
    },
    {
      "cell_type": "markdown",
      "id": "bfcedab2-db23-4ab1-8e91-329f4388605e",
      "metadata": {
        "id": "bfcedab2-db23-4ab1-8e91-329f4388605e"
      },
      "source": [
        "## P 10.1: Find an image dataset with at least 1000 images. Apply a convolutional neural network to classify the images and calculate all evaluation metrics. The quality of your solution and the accuracy your model produces will affect your mark. So, try to get the best accuracy possible (10%).\n",
        "\n",
        "## NOTE: You should comment on your code and explain what each part of the code does."
      ]
    },
    {
      "cell_type": "code",
      "execution_count": null,
      "id": "d5627b0a-da2e-4873-a6f8-06af96167057",
      "metadata": {
        "id": "d5627b0a-da2e-4873-a6f8-06af96167057"
      },
      "outputs": [],
      "source": [
        "############# WRITE YOUR CODE IN THIS CELL (IF APPLICABLE)  ####################\n",
        "\n",
        "\n"
      ]
    },
    {
      "cell_type": "raw",
      "id": "41d8711b-390d-472d-91fa-1044a199f321",
      "metadata": {
        "id": "41d8711b-390d-472d-91fa-1044a199f321"
      },
      "source": [
        "############ WRITE YOUR REPORT IN THIS CELL (IF APPLICABLE) #############\n",
        "\n",
        "\n"
      ]
    }
  ],
  "metadata": {
    "kernelspec": {
      "display_name": "Python 3 (ipykernel)",
      "language": "python",
      "name": "python3"
    },
    "language_info": {
      "codemirror_mode": {
        "name": "ipython",
        "version": 3
      },
      "file_extension": ".py",
      "mimetype": "text/x-python",
      "name": "python",
      "nbconvert_exporter": "python",
      "pygments_lexer": "ipython3",
      "version": "3.11.5"
    },
    "colab": {
      "provenance": []
    }
  },
  "nbformat": 4,
  "nbformat_minor": 5
}