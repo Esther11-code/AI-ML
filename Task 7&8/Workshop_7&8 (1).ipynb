{
  "cells": [
    {
      "cell_type": "markdown",
      "id": "57dda1cf-634c-4db2-ba37-44e8b2769e2b",
      "metadata": {
        "id": "57dda1cf-634c-4db2-ba37-44e8b2769e2b"
      },
      "source": [
        "# Tasks"
      ]
    },
    {
      "cell_type": "markdown",
      "id": "bfcedab2-db23-4ab1-8e91-329f4388605e",
      "metadata": {
        "id": "bfcedab2-db23-4ab1-8e91-329f4388605e"
      },
      "source": [
        "## P 7.1: Download the adult_T7 dataset from Canvas. Use four classifiers to predict the 'income' column. Calculate all evaluation metrics using a five-fold cross-validation. Print the feature importance values from the random forest classifier. You should improve your models as best as you can (10%)."
      ]
    },
    {
      "cell_type": "code",
      "execution_count": null,
      "id": "d5627b0a-da2e-4873-a6f8-06af96167057",
      "metadata": {
        "id": "d5627b0a-da2e-4873-a6f8-06af96167057"
      },
      "outputs": [],
      "source": [
        "############# WRITE YOUR CODE IN THIS CELL (IF APPLICABLE)  ####################\n",
        "\n",
        "\n"
      ]
    },
    {
      "cell_type": "raw",
      "id": "41d8711b-390d-472d-91fa-1044a199f321",
      "metadata": {
        "id": "41d8711b-390d-472d-91fa-1044a199f321"
      },
      "source": [
        "############ WRITE YOUR REPORT IN THIS CELL (IF APPLICABLE) #############\n",
        "\n",
        "\n"
      ]
    },
    {
      "cell_type": "markdown",
      "id": "c8977ac9",
      "metadata": {
        "id": "c8977ac9"
      },
      "source": [
        "## P 7.2: Use two clustering methods to cluster a numerical column in the dataset. Find the optimum number of clusters using the elbow method (5%).  \n",
        "\n",
        "## NOTE: Please complete this task in the next week's workshop\n",
        "## NOTE: You can use any aptional numerical column for this task."
      ]
    },
    {
      "cell_type": "code",
      "execution_count": null,
      "id": "1c1690ed",
      "metadata": {
        "id": "1c1690ed"
      },
      "outputs": [],
      "source": []
    }
  ],
  "metadata": {
    "kernelspec": {
      "display_name": "Python 3 (ipykernel)",
      "language": "python",
      "name": "python3"
    },
    "language_info": {
      "codemirror_mode": {
        "name": "ipython",
        "version": 3
      },
      "file_extension": ".py",
      "mimetype": "text/x-python",
      "name": "python",
      "nbconvert_exporter": "python",
      "pygments_lexer": "ipython3",
      "version": "3.11.5"
    },
    "colab": {
      "provenance": []
    }
  },
  "nbformat": 4,
  "nbformat_minor": 5
}