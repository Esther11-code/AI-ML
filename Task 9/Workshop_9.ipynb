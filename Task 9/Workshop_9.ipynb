{
  "nbformat": 4,
  "nbformat_minor": 0,
  "metadata": {
    "colab": {
      "provenance": []
    },
    "kernelspec": {
      "name": "python3",
      "display_name": "Python 3"
    },
    "language_info": {
      "name": "python"
    }
  },
  "cells": [
    {
      "cell_type": "markdown",
      "source": [
        "# Tasks"
      ],
      "metadata": {
        "id": "3YMP_lFPPGQ5"
      }
    },
    {
      "cell_type": "markdown",
      "source": [
        "## Task 6.1: Download the 'Tweets' dataset from Canvas. Classify the sentiments in the dataset using six classifiers and calculate all evaluation metrics.\n",
        "## NOTE: If the running time is too long, you can reduce the number of samples.\n",
        "## NOTE: You should comment on your code and explain what each part is doing"
      ],
      "metadata": {
        "id": "2EAZP2ZWPLjp"
      }
    },
    {
      "cell_type": "code",
      "execution_count": null,
      "metadata": {
        "id": "So4Pt81-O3J9"
      },
      "outputs": [],
      "source": [
        "############# WRITE THE CODE IN THIS CELL ####################\n",
        "\n",
        "\n",
        "\n",
        "\n"
      ]
    },
    {
      "cell_type": "markdown",
      "source": [
        "############ WRITE YOUR REPORT IN THIS CELL (IF APPLICABLE) #############\n",
        "\n",
        "\n",
        "\n",
        "\n"
      ],
      "metadata": {
        "id": "S9fYbBpOQRGp"
      }
    }
  ]
}