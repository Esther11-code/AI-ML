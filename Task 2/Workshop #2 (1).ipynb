{
 "cells": [
  {
   "cell_type": "markdown",
   "id": "36e59240-d12a-4f20-987c-38cffd3a6240",
   "metadata": {},
   "source": [
    "# --------------------------------------- Training -------------------------------------"
   ]
  },
  {
   "cell_type": "markdown",
   "id": "3f919478-4870-4c6a-9097-859bd24060af",
   "metadata": {},
   "source": [
    "* You can check the comments to see what each cell does. First, read the comments, and then run the cells to see the outputs.\n",
    "\n",
    "\n",
    "* There are a few exercises in the notebook. The solution of some of them is given. But please first try to complete the exercise yourself and then look at the solution.\n",
    "\n",
    "\n",
    "* After running all cells and completing all exercises, complete the tasks at the end of the notebook. "
   ]
  },
  {
   "cell_type": "markdown",
   "id": "5692d34e-6233-4df3-b447-94459186d099",
   "metadata": {},
   "source": [
    "## Importing necessary Libraries  "
   ]
  },
  {
   "cell_type": "code",
   "execution_count": null,
   "id": "010a84b7-7b48-494f-853d-0cb5f003c2db",
   "metadata": {},
   "outputs": [],
   "source": [
    "import pandas as pd \n",
    "import numpy as np"
   ]
  },
  {
   "cell_type": "markdown",
   "id": "4665820d",
   "metadata": {},
   "source": [
    "## Importing a dataset for this workshop"
   ]
  },
  {
   "cell_type": "markdown",
   "id": "b7b70001-2e41-4a2a-a468-19bb575b56b4",
   "metadata": {},
   "source": [
    "## Importing the dataset directly from the source"
   ]
  },
  {
   "cell_type": "code",
   "execution_count": null,
   "id": "25a2c3fb-2f10-4869-abeb-d62b40193f3c",
   "metadata": {},
   "outputs": [],
   "source": [
    "# Installing a package which is needed to download the dataset from its online source. This package is recommended by the online source at the following\n",
    "# URL : https://archive.ics.uci.edu/dataset/2/adult. You need to reinstall the kernel after the package has been installed\n",
    "!pip3 install ucimlrepo"
   ]
  },
  {
   "cell_type": "code",
   "execution_count": null,
   "id": "39320f90-ed64-4d58-a594-f5a785795af9",
   "metadata": {},
   "outputs": [],
   "source": [
    "# Downloading the dataset from the online source. The first two lines are given by the online source mentioned above\n",
    "from ucimlrepo import fetch_ucirepo \n",
    "# fetch dataset \n",
    "adult = fetch_ucirepo(id=2) \n",
    "\n",
    "# Putting data in a pandas dataframe\n",
    "X = adult.data.features \n",
    "y = adult.data.targets \n",
    "data=pd.concat([X,y],axis=1)\n"
   ]
  },
  {
   "cell_type": "code",
   "execution_count": null,
   "id": "33b16900-3b27-4d10-b145-d102bbd7620f",
   "metadata": {},
   "outputs": [],
   "source": [
    "#printing data\n",
    "data"
   ]
  },
  {
   "cell_type": "markdown",
   "id": "9ed2fb69-ae10-45eb-bf6c-57fd3c8bbbdc",
   "metadata": {},
   "source": [
    "## Importing the dataset from a folder on your local disk "
   ]
  },
  {
   "cell_type": "code",
   "execution_count": null,
   "id": "3fbd3442-c9bf-4ae9-8945-6edbd87e6c63",
   "metadata": {},
   "outputs": [],
   "source": [
    "#importing the dataset as a Pandas DataFrame into Python if the dataset is stored on your local hard disk\n",
    "# You can download the dataset from the following URL: https://archive.ics.uci.edu/dataset/2/adult  \n",
    "data = pd.read_csv('adult.csv') # Replace the current data path with the data path on your local disk "
   ]
  },
  {
   "cell_type": "markdown",
   "id": "27a86e6b-7c5c-41d4-8d91-f2682bdb833d",
   "metadata": {},
   "source": [
    "## Exploring the dataset"
   ]
  },
  {
   "cell_type": "code",
   "execution_count": null,
   "id": "4192c739-f44e-498d-a12e-49e71b45a5e4",
   "metadata": {},
   "outputs": [],
   "source": [
    "# Showing the first 5 rows of the dataset\n",
    "data.head()"
   ]
  },
  {
   "cell_type": "code",
   "execution_count": null,
   "id": "97640dbc-bfa5-4701-ab69-24aeab9253f6",
   "metadata": {},
   "outputs": [],
   "source": [
    "# Finding the shape of the data\n",
    "print(data.shape)"
   ]
  },
  {
   "cell_type": "code",
   "execution_count": null,
   "id": "227906ee-a57a-441b-b921-d37d31b8c1ba",
   "metadata": {},
   "outputs": [],
   "source": [
    "# Generate a dataset by randomly extracting 30000 rows (samples) \n",
    "data_new = data.sample(n=30000, random_state = 48)"
   ]
  },
  {
   "cell_type": "code",
   "execution_count": null,
   "id": "da55c2b6-765a-42cc-81a3-2b81821e7036",
   "metadata": {},
   "outputs": [],
   "source": [
    "# Printing the new dataset\n",
    "data_new"
   ]
  },
  {
   "cell_type": "code",
   "execution_count": null,
   "id": "46e6defc-7747-4ce1-8447-40446682deb1",
   "metadata": {},
   "outputs": [],
   "source": [
    "# The indices of different rows in the dataset are currently messy. This happens in many data science projects. Always reindex \n",
    "# the dataset if you are unsure the indices are correct.  \n",
    "data_new.reset_index(drop=True, inplace=True)"
   ]
  },
  {
   "cell_type": "code",
   "execution_count": null,
   "id": "1935a258-c8f6-4fd3-b71f-bcc7b05e26e2",
   "metadata": {},
   "outputs": [],
   "source": [
    "# Checking if the indices are correct\n",
    "data_new"
   ]
  },
  {
   "cell_type": "code",
   "execution_count": null,
   "id": "52d731d3-b660-4846-8611-240de23c2f09",
   "metadata": {},
   "outputs": [],
   "source": [
    "data"
   ]
  },
  {
   "cell_type": "code",
   "execution_count": null,
   "id": "df69e811-5ed5-4976-aa38-8ca2dfd9362e",
   "metadata": {},
   "outputs": [],
   "source": [
    "# Getting statistical information of the dataset for different columns (features) \n",
    "data.describe(include=\"all\")"
   ]
  },
  {
   "cell_type": "code",
   "execution_count": null,
   "id": "90917d1a-9c44-4e26-8504-cead1a08b837",
   "metadata": {},
   "outputs": [],
   "source": [
    "# Showing the dataset information\n",
    "data.info()"
   ]
  },
  {
   "cell_type": "code",
   "execution_count": null,
   "id": "fc8a02fa-9a5e-4e1d-a8f1-b4f7c7d33660",
   "metadata": {},
   "outputs": [],
   "source": [
    "# Getting the count of different values in the column \"education-num\"\n",
    "data['education-num'].value_counts()"
   ]
  },
  {
   "cell_type": "code",
   "execution_count": null,
   "id": "0f3f64e4-430f-49fa-bf15-63bf0b6e9614",
   "metadata": {},
   "outputs": [],
   "source": [
    "# Getting the count of different values in the column \"education\"\n",
    "data['education'].value_counts()"
   ]
  },
  {
   "cell_type": "code",
   "execution_count": null,
   "id": "8b78b631-5287-49d9-b495-d72e4f27c1fc",
   "metadata": {},
   "outputs": [],
   "source": [
    "# Dropping a column\n",
    "data = data.drop(['fnlwgt'], axis=1)"
   ]
  },
  {
   "cell_type": "code",
   "execution_count": null,
   "id": "d73888eb-eccd-4333-8b68-d025ad3a59c8",
   "metadata": {},
   "outputs": [],
   "source": [
    "data.shape"
   ]
  },
  {
   "cell_type": "code",
   "execution_count": null,
   "id": "9061442f-1a55-49e0-9e79-ebd295b34436",
   "metadata": {},
   "outputs": [],
   "source": [
    "# Getting the number of unique values of a column\n",
    "data['education'].nunique()"
   ]
  },
  {
   "cell_type": "code",
   "execution_count": null,
   "id": "c51e6dc9-bf67-4a05-abbe-118845d258f4",
   "metadata": {},
   "outputs": [],
   "source": [
    "# Finding how many rows are related to either gender \n",
    "data['sex'].value_counts()"
   ]
  },
  {
   "cell_type": "code",
   "execution_count": null,
   "id": "770c18ea-4c60-4e29-ad37-e8dfb7b429f7",
   "metadata": {},
   "outputs": [],
   "source": [
    "# Calculating the average age of different genders in the dataset \n",
    "data['age'].groupby([data['sex']]).mean()\n"
   ]
  },
  {
   "cell_type": "code",
   "execution_count": null,
   "id": "029da728-a889-457e-877e-110f7d6895c0",
   "metadata": {},
   "outputs": [],
   "source": [
    "# Getting the average age of different genders in the dataset broken down based on their education\n",
    "data['age'].groupby([data['sex'],data['education']]).mean()"
   ]
  },
  {
   "cell_type": "code",
   "execution_count": null,
   "id": "a86bfefd-1359-4589-aee6-3989cfacbaa2",
   "metadata": {},
   "outputs": [],
   "source": [
    "# Getting the maximum age of different races in the dataset\n",
    "data['age'].groupby([data['race']]).max() "
   ]
  },
  {
   "cell_type": "markdown",
   "id": "55e64c29",
   "metadata": {},
   "source": [
    "* Exercise 1: Write a code to find how much contribution each sex and occupation category made to the capital-gain on average. Apply the code to the dataset and print the result "
   ]
  },
  {
   "cell_type": "code",
   "execution_count": null,
   "id": "a95ca1f7-9939-4611-81b5-e59cdbcbb515",
   "metadata": {},
   "outputs": [],
   "source": [
    "# Extracting the age and education columns and creating a new DataFrame using these columns\n",
    "a=data['age']\n",
    "b=data['education']\n",
    "new_data=pd.concat([a,b],axis=1)"
   ]
  },
  {
   "cell_type": "code",
   "execution_count": null,
   "id": "5d76340e-49d3-4ae9-823f-cfc1ef5c605a",
   "metadata": {},
   "outputs": [],
   "source": [
    "data"
   ]
  },
  {
   "cell_type": "markdown",
   "id": "0ae58e93-3a07-4811-b144-5c25f1a20d39",
   "metadata": {},
   "source": [
    "* Exercise 2: Write a function that receives the dataset and replace Famle with F and Male with M (please try to write it yourself before checking the answer in the next cell)"
   ]
  },
  {
   "cell_type": "code",
   "execution_count": null,
   "id": "fb964e0a-6c7e-47ce-9fa0-0587f1982a8a",
   "metadata": {},
   "outputs": [],
   "source": [
    "# exercise 2 solution\n",
    "def encode_sex(data):\n",
    "    data.reset_index(drop=True, inplace=True) # reindexing the dataset in case the dataset index is corrupted\n",
    "    rows=data.shape[0]\n",
    "    a=data.loc[:,'sex']\n",
    "    for i in range(rows): \n",
    "        if a[i]==\"Male\":\n",
    "            data.loc[i,\"sex\"]=\"M\"\n",
    "        elif a[i]==\"Female\":\n",
    "            data.loc[i,\"sex\"]=\"F\"\n",
    "    return data"
   ]
  },
  {
   "cell_type": "code",
   "execution_count": null,
   "id": "3d096649-1d9f-4ed6-8928-a7c69329cbff",
   "metadata": {},
   "outputs": [],
   "source": [
    "# Copying the data\n",
    "data_copy=data.copy()"
   ]
  },
  {
   "cell_type": "code",
   "execution_count": null,
   "id": "f0d8a2e4-e07c-485e-8e0d-6b6304ef45d1",
   "metadata": {},
   "outputs": [],
   "source": [
    "# Applying the encode_sex function to the copied data\n",
    "data_encoded=encode_sex(data_copy)\n",
    "data_encoded.head()"
   ]
  },
  {
   "cell_type": "code",
   "execution_count": null,
   "id": "cd3a4c58-e849-41b8-a1a0-9c2f066a4fda",
   "metadata": {},
   "outputs": [],
   "source": [
    "data"
   ]
  },
  {
   "cell_type": "markdown",
   "id": "57dda1cf-634c-4db2-ba37-44e8b2769e2b",
   "metadata": {},
   "source": [
    "# Tasks"
   ]
  },
  {
   "cell_type": "markdown",
   "id": "bfcedab2-db23-4ab1-8e91-329f4388605e",
   "metadata": {},
   "source": [
    "## P 2.1: Complete the following steps (4%): \n",
    "## 1- Import the dataset from the URL we used in this workshop. \n",
    "## 2- Generate a new dataset by randomly extracting 10000 samples. \n",
    "## 3- Drop the 'income' column, reindex the new dataset and then clean it. \n",
    "## 4- Print the new dataset and use it for the rest of the tasks"
   ]
  },
  {
   "cell_type": "code",
   "execution_count": null,
   "id": "d5627b0a-da2e-4873-a6f8-06af96167057",
   "metadata": {},
   "outputs": [],
   "source": [
    "############# WRITE YOUR CODE IN THIS CELL (IF APPLICABLE)  ####################\n",
    "\n",
    "\n"
   ]
  },
  {
   "cell_type": "raw",
   "id": "41d8711b-390d-472d-91fa-1044a199f321",
   "metadata": {},
   "source": [
    "############ WRITE YOUR REPORT IN THIS CELL (IF APPLICABLE) #############\n",
    "\n",
    "\n"
   ]
  },
  {
   "cell_type": "markdown",
   "id": "8f09118f",
   "metadata": {},
   "source": [
    "## P 2.2: Complete the following steps (4%):\n",
    "## 1- Determine which columns are categorical and which columns are numerical. \n",
    "## 2- Encode the categorical columns using the correct method. \n",
    "## 3- Normalise the numerical columns. \n",
    "## 4- Print the dataset "
   ]
  },
  {
   "cell_type": "code",
   "execution_count": null,
   "id": "d2b87a30",
   "metadata": {},
   "outputs": [],
   "source": [
    "############# WRITE YOUR CODE IN THIS CELL (IF APPLICABLE)  ####################\n"
   ]
  },
  {
   "cell_type": "raw",
   "id": "d3de738c-b803-414b-8616-8c9d48859c86",
   "metadata": {},
   "source": [
    "############ WRITE YOUR REPORT IN THIS CELL (IF APPLICABLE) #############\n",
    "\n",
    "\n"
   ]
  },
  {
   "cell_type": "markdown",
   "id": "7edaa81b-5ee3-4467-b463-41c5b33ad8b3",
   "metadata": {},
   "source": [
    "## P 2.3: Write a function to split the dataset in half column-wise and swap the first half and the second half. Apply the funtion to the dataset and print the result (3%)"
   ]
  },
  {
   "cell_type": "code",
   "execution_count": null,
   "id": "43e695b6",
   "metadata": {},
   "outputs": [],
   "source": [
    "############# WRITE YOUR CODE IN THIS CELL (IF APPLICABLE)  ####################\n",
    "\n",
    "\n"
   ]
  },
  {
   "cell_type": "raw",
   "id": "c980e058-e5f8-4c83-9038-daec0eba06a9",
   "metadata": {},
   "source": [
    "############ WRITE YOUR REPORT IN THIS CELL (IF APPLICABLE) #############\n",
    "\n",
    "\n"
   ]
  },
  {
   "cell_type": "markdown",
   "id": "9ff493d6-db04-4ca7-9c19-b826871ac22e",
   "metadata": {},
   "source": [
    "## P 2.4: Write a function that receives two numerical columns' names and compare their values for all rows. If the value of the first column is greater than the second column, the function should produce True, otherwise, it should produce False. The function should append an additional column to the dataset to store the results of the comparison for all rows. Apply the function to the \"age\" and \"hours-per-week\" columns in the dataset and print the result (4%)."
   ]
  },
  {
   "cell_type": "code",
   "execution_count": null,
   "id": "ea86494e",
   "metadata": {},
   "outputs": [],
   "source": [
    "############# WRITE YOUR CODE IN THIS CELL (IF APPLICABLE)  ####################\n",
    "\n",
    "\n"
   ]
  },
  {
   "cell_type": "raw",
   "id": "afc6598d-1442-4731-b3b2-1662ca5dba33",
   "metadata": {},
   "source": [
    "############ WRITE YOUR REPORT IN THIS CELL (IF APPLICABLE) #############\n",
    "\n",
    "\n"
   ]
  }
 ],
 "metadata": {
  "kernelspec": {
   "display_name": "Python 3 (ipykernel)",
   "language": "python",
   "name": "python3"
  },
  "language_info": {
   "codemirror_mode": {
    "name": "ipython",
    "version": 3
   },
   "file_extension": ".py",
   "mimetype": "text/x-python",
   "name": "python",
   "nbconvert_exporter": "python",
   "pygments_lexer": "ipython3",
   "version": "3.11.5"
  }
 },
 "nbformat": 4,
 "nbformat_minor": 5
}
